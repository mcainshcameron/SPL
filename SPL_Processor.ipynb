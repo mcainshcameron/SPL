{
 "cells": [
  {
   "cell_type": "markdown",
   "metadata": {},
   "source": [
    "# SPL Point Processing \n",
    "Load the file "
   ]
  },
  {
   "cell_type": "code",
   "execution_count": 1,
   "metadata": {},
   "outputs": [],
   "source": [
    "import pandas as pd\n",
    "import math\n",
    "\n",
    "file = \"FantaSPL_V2.3.xlsx\"\n",
    "# Load the Excel file\n",
    "xls = pd.ExcelFile(file)"
   ]
  },
  {
   "cell_type": "markdown",
   "metadata": {},
   "source": [
    "Load the sheets into dataframes"
   ]
  },
  {
   "cell_type": "code",
   "execution_count": 2,
   "metadata": {},
   "outputs": [
    {
     "name": "stderr",
     "output_type": "stream",
     "text": [
      "/home/codespace/.python/current/lib/python3.10/site-packages/openpyxl/worksheet/_reader.py:329: UserWarning: Data Validation extension is not supported and will be removed\n",
      "  warn(msg)\n"
     ]
    }
   ],
   "source": [
    "# Load the 'Games' sheet into a DataFrame\n",
    "games_df = pd.read_excel(xls, sheet_name='Games')\n",
    "# Load the 'Parameters' sheet into a DataFrame\n",
    "parameters_df = pd.read_excel(xls, sheet_name='Parameters')\n",
    "# Load the 'Points' sheet into a DataFrame\n",
    "points_df = pd.read_excel(xls, sheet_name='Points')\n",
    "# Load the 'Players' sheet into a DataFrame\n",
    "players_df = pd.read_excel(xls, sheet_name='Players')"
   ]
  },
  {
   "cell_type": "markdown",
   "metadata": {},
   "source": [
    "Load the parameters as a dictionary"
   ]
  },
  {
   "cell_type": "code",
   "execution_count": 3,
   "metadata": {},
   "outputs": [],
   "source": [
    "# Convert the DataFrame to a dictionary for easy access\n",
    "parameters_dict = parameters_df.set_index('Parameter').to_dict()"
   ]
  },
  {
   "cell_type": "markdown",
   "metadata": {},
   "source": [
    "# Games Summary"
   ]
  },
  {
   "cell_type": "markdown",
   "metadata": {},
   "source": [
    "Add winning Team and Number of Players"
   ]
  },
  {
   "cell_type": "code",
   "execution_count": 4,
   "metadata": {},
   "outputs": [],
   "source": [
    "# Add a new column 'Winning Team' based on the goal difference\n",
    "games_df['Winning Team'] = 'Draw'\n",
    "games_df.loc[games_df['Team A Goals'] > games_df['Team B Goals'], 'Winning Team'] = 'Team A'\n",
    "games_df.loc[games_df['Team A Goals'] < games_df['Team B Goals'], 'Winning Team'] = 'Team B'\n",
    "\n",
    "# Calculate the number of players for each game based on the 'Date' column\n",
    "players_per_game = points_df.groupby('Date').size()\n",
    "\n",
    "# Assign a name to the Series\n",
    "players_per_game.name = 'Number of Players'\n",
    "\n",
    "# Merge the number of players with the games_df on the 'Date' column\n",
    "games_df = games_df.merge(players_per_game, left_on='Date', right_index=True, how='left')\n",
    "games_df = games_df.rename(columns={0: 'Number of Players'})"
   ]
  },
  {
   "cell_type": "markdown",
   "metadata": {},
   "source": [
    "Adding season and gameweek"
   ]
  },
  {
   "cell_type": "code",
   "execution_count": 5,
   "metadata": {},
   "outputs": [],
   "source": [
    "# 1. Assign 'Season' column\n",
    "games_df['Season'] = games_df['Date'].apply(lambda x: 1 if x.month >= 1 and x.month <= 7 and x.year == 2023 else 2)\n",
    "\n",
    "# 2. Assign 'Gameweek' column\n",
    "games_df['Gameweek'] = games_df.groupby('Season').cumcount() + 1\n"
   ]
  },
  {
   "cell_type": "markdown",
   "metadata": {},
   "source": [
    "Adding Match Type"
   ]
  },
  {
   "cell_type": "code",
   "execution_count": 6,
   "metadata": {},
   "outputs": [],
   "source": [
    "# Add 'Match Type' column based on the 'Number of Players'\n",
    "games_df['Match Type'] = '11-a-side'\n",
    "games_df.loc[games_df['Number of Players'] <= 10, 'Match Type'] = '5-a-side'\n",
    "games_df.loc[(games_df['Number of Players'] > 10) & (games_df['Number of Players'] < 17), 'Match Type'] = '7-a-side'"
   ]
  },
  {
   "cell_type": "markdown",
   "metadata": {},
   "source": [
    "Reordering Columns"
   ]
  },
  {
   "cell_type": "code",
   "execution_count": 7,
   "metadata": {},
   "outputs": [],
   "source": [
    "# Reorder the columns in games_df as specified\n",
    "column_order = ['Date', 'Season', 'Gameweek', 'Match Type', 'Winning Team', 'Team A Goals', 'Team B Goals', 'Number of Players']\n",
    "games_df = games_df[column_order]"
   ]
  },
  {
   "cell_type": "markdown",
   "metadata": {},
   "source": [
    "Saving Games as an excel file"
   ]
  },
  {
   "cell_type": "code",
   "execution_count": 8,
   "metadata": {},
   "outputs": [],
   "source": [
    "# Save the games_df DataFrame as an Excel file\n",
    "games_excel = \"games.xlsx\"\n",
    "games_df.to_excel(games_excel, index=False)\n"
   ]
  },
  {
   "cell_type": "markdown",
   "metadata": {},
   "source": [
    "# Points Calculation"
   ]
  },
  {
   "cell_type": "code",
   "execution_count": 9,
   "metadata": {},
   "outputs": [],
   "source": [
    "# Merge the 'Points' DataFrame with the 'games_df' DataFrame based on the 'Date' column\n",
    "points_calculation = points_df.merge(games_df, on='Date', how='left')\n",
    "\n",
    "# Update the position_dict with the correct column name\n",
    "position_dict = {\n",
    "    '5-a-side': players_df.set_index('Player')['Position 5 a-side'].to_dict(),\n",
    "    '7-a-side': players_df.set_index('Player')['Position 7-a-side'].to_dict(),\n",
    "    '11-a-side': players_df.set_index('Player')['Position 11-a-side'].to_dict()\n",
    "}\n",
    "\n",
    "def get_position(row):\n",
    "    if pd.notna(row['Game Position']):\n",
    "        return row['Game Position']\n",
    "    return position_dict[row['Match Type']].get(row['Player'], 'Unknown')\n",
    "\n",
    "points_calculation['Position'] = points_calculation.apply(get_position, axis=1)\n",
    "points_calculation = points_calculation.drop(\"Game Position\", axis=1)\n"
   ]
  },
  {
   "cell_type": "code",
   "execution_count": 10,
   "metadata": {},
   "outputs": [],
   "source": [
    "\n",
    "points_calculation['Goal Difference'] = points_calculation.apply(\n",
    "    lambda row: row['Team A Goals'] - row['Team B Goals'] if row['Team'] == 'Team A' else row['Team B Goals'] - row['Team A Goals'],\n",
    "    axis=1\n",
    ")\n",
    "\n",
    "# Adjust for the winning team\n",
    "points_calculation['Goal Difference'] = points_calculation.apply(\n",
    "    lambda row: -abs(row['Goal Difference']) if (row['Winning Team'] != row['Team'] and row['Winning Team'] != 'Draw') else abs(row['Goal Difference']),\n",
    "    axis=1\n",
    ")\n",
    "\n",
    "points_calculation['Game Outcome'] = points_calculation['Goal Difference'].apply(\n",
    "    lambda x: 'Draw' if x == 0 else ('Win' if x > 0 else 'Loss')\n",
    ")\n"
   ]
  },
  {
   "cell_type": "code",
   "execution_count": 11,
   "metadata": {},
   "outputs": [],
   "source": [
    "def get_game_outcome_points(row):\n",
    "    match_type = row['Match Type']\n",
    "    game_outcome = row['Game Outcome']\n",
    "    return parameters_dict[match_type][game_outcome]\n",
    "\n",
    "points_calculation['Game Outcome Points'] = points_calculation.apply(get_game_outcome_points, axis=1)"
   ]
  },
  {
   "cell_type": "markdown",
   "metadata": {},
   "source": [
    "Participation Points"
   ]
  },
  {
   "cell_type": "code",
   "execution_count": 12,
   "metadata": {},
   "outputs": [],
   "source": [
    "# Add 'Participation' column to the merged_df based on the 'Match Type' column and the parameters_dict\n",
    "points_calculation['Participation'] = points_calculation['Match Type'].apply(lambda x: parameters_dict[x]['Participation'])\n"
   ]
  },
  {
   "cell_type": "code",
   "execution_count": 13,
   "metadata": {},
   "outputs": [],
   "source": [
    "# Add 'Goal Points' column to the merged_df based on the 'Goals', 'Match Type' columns, and the parameters_dict\n",
    "points_calculation['Goal Points'] = points_calculation.apply(lambda row: row['Goals'] * parameters_dict[row['Match Type']]['Goal'], axis=1)"
   ]
  },
  {
   "cell_type": "code",
   "execution_count": 14,
   "metadata": {},
   "outputs": [],
   "source": [
    "# Add 'Own Goal Points' column to the merged_df based on the 'Own Goals', 'Match Type' columns, and the parameters_dict\n",
    "points_calculation['Own Goal Points'] = points_calculation.apply(lambda row: row['Own Goals'] * parameters_dict[row['Match Type']]['Own Goal'], axis=1)"
   ]
  },
  {
   "cell_type": "code",
   "execution_count": 15,
   "metadata": {},
   "outputs": [],
   "source": [
    "# Add 'SPL Bonus Points' \n",
    "points_calculation['SPL Bonus Points'] = points_calculation.apply(lambda row: row['SPL Bonus'] * parameters_dict[row['Match Type']]['SPL Bonus'], axis=1)"
   ]
  },
  {
   "cell_type": "code",
   "execution_count": null,
   "metadata": {},
   "outputs": [],
   "source": [
    "# Add 'MVP Points'\n",
    "points_calculation['MVP Points'] = points_calculation.apply(lambda row: row['MVP'] * parameters_dict[row['Match Type']]['MVP'], axis=1)"
   ]
  },
  {
   "cell_type": "code",
   "execution_count": null,
   "metadata": {},
   "outputs": [],
   "source": [
    "# Add 'Friend Points'\n",
    "points_calculation['Friend Referrals Points'] = points_calculation.apply(lambda row: row['Friend Referrals'] * parameters_dict[row['Match Type']]['Friend Referrals'], axis=1)"
   ]
  },
  {
   "cell_type": "code",
   "execution_count": null,
   "metadata": {},
   "outputs": [],
   "source": [
    "# Add 'Penalty Points'\n",
    "points_calculation['Penalty Points'] = points_calculation.apply(lambda row: row['Penalty'] * parameters_dict[row['Match Type']]['Penalty'], axis=1)"
   ]
  },
  {
   "cell_type": "code",
   "execution_count": null,
   "metadata": {},
   "outputs": [],
   "source": [
    "# Add 'Goalkeeper Points' column to the merged_df based on the 'Position' and 'Match Type' columns, and the parameters_dict\n",
    "points_calculation['Goalkeeper Points'] = points_calculation.apply(\n",
    "    lambda row: parameters_dict[row['Match Type']]['Goalkeeper Score'] if row['Position'] == 'Goalkeeper' else 0,\n",
    "    axis=1\n",
    ")\n"
   ]
  },
  {
   "cell_type": "code",
   "execution_count": null,
   "metadata": {},
   "outputs": [],
   "source": [
    "# Add 'Goals Conceded' column to the merged_df based on the 'Team', 'Team A Goals', and 'Team B Goals' columns\n",
    "points_calculation['Goals Conceded'] = points_calculation.apply(\n",
    "    lambda row: row['Team B Goals'] if row['Team'] == 'Team A' else row['Team A Goals'],\n",
    "    axis=1\n",
    ")"
   ]
  },
  {
   "cell_type": "code",
   "execution_count": null,
   "metadata": {},
   "outputs": [],
   "source": [
    "# Modify the function to round up negative 'Defensive Score Points' to 0\n",
    "def calculate_defensive_score(row):\n",
    "    base_score = parameters_dict[row['Match Type']]['Defensive Score'] - row['Goals Conceded']\n",
    "    \n",
    "    if row['Position'] in ['Goalkeeper', 'Defender', 'Defensive']:\n",
    "        return max(base_score, 0)\n",
    "    elif row['Position'] in ['Midfielder', 'Outfield']:\n",
    "        return max(math.ceil(base_score / 2), 0)\n",
    "    elif row['Position'] in ['Forward', 'Offensive']:\n",
    "        return 0\n",
    "    else:\n",
    "        return 'Unknown'\n",
    "\n",
    "# Recalculate 'Defensive Score Points' column with the modified function\n",
    "points_calculation['Defensive Score Points'] = points_calculation.apply(calculate_defensive_score, axis=1)\n"
   ]
  },
  {
   "cell_type": "code",
   "execution_count": null,
   "metadata": {},
   "outputs": [],
   "source": [
    "# Modify the function to calculate 'Midfield Score' based on 'Goal Difference'\n",
    "def calculate_midfield_score(row):\n",
    "    if row['Position'] in ['Midfielder', 'Offensive', 'Outfield']:\n",
    "        return max(row['Goal Difference'], 0)\n",
    "    elif row['Position'] == 'Forward':\n",
    "        return max(math.ceil(row['Goal Difference'] / 2), 0)\n",
    "    else:\n",
    "        return 0\n",
    "\n",
    "# Recalculate 'Midfield Score' column with the modified function\n",
    "points_calculation['Midfield Score'] = points_calculation.apply(calculate_midfield_score, axis=1)\n",
    "\n"
   ]
  },
  {
   "cell_type": "code",
   "execution_count": null,
   "metadata": {},
   "outputs": [],
   "source": [
    "# List of columns to sum\n",
    "columns_to_sum = [\n",
    "    'Participation', 'Goal Points', 'Own Goal Points', 'SPL Bonus Points', \n",
    "    'MVP Points', 'Friend Referrals Points', 'Goalkeeper Points', 'Defensive Score Points', 'Midfield Score', 'Penalty Points','Game Outcome Points'\n",
    "]\n",
    "\n",
    "# Add a new column 'Total Points' which is the sum of the specified columns\n",
    "points_calculation['Total Points'] = points_calculation[columns_to_sum].sum(axis=1)\n"
   ]
  },
  {
   "cell_type": "code",
   "execution_count": null,
   "metadata": {},
   "outputs": [],
   "source": [
    "# Reorder the columns in merged_df as specified\n",
    "column_order = [\n",
    "    'Date', 'Season', 'Gameweek',  'Match Type',  'Player', 'Position', 'Team', 'Winning Team','Game Outcome', 'Number of Players', 'Goals', \n",
    "    'Own Goals', 'SPL Bonus', 'MVP', 'Friend Referrals', 'Penalty', 'Team A Goals', 'Team B Goals', \n",
    "    'Goals Conceded', 'Goal Difference', 'Participation','Game Outcome Points','Penalty Points', 'Goal Points', 'Own Goal Points', 'SPL Bonus Points', \n",
    "    'MVP Points', 'Friend Referrals Points', 'Goalkeeper Points', 'Defensive Score Points', 'Midfield Score', 'Total Points'\n",
    "]\n",
    "points_calculation = points_calculation[column_order]\n",
    "\n"
   ]
  },
  {
   "cell_type": "code",
   "execution_count": null,
   "metadata": {},
   "outputs": [],
   "source": [
    "# Save the games_df DataFrame as an Excel file\n",
    "points_excel = \"points.xlsx\"\n",
    "points_calculation.to_excel(points_excel, index=False)"
   ]
  }
 ],
 "metadata": {
  "kernelspec": {
   "display_name": "Python 3",
   "language": "python",
   "name": "python3"
  },
  "language_info": {
   "codemirror_mode": {
    "name": "ipython",
    "version": 3
   },
   "file_extension": ".py",
   "mimetype": "text/x-python",
   "name": "python",
   "nbconvert_exporter": "python",
   "pygments_lexer": "ipython3",
   "version": "3.10.8"
  },
  "orig_nbformat": 4
 },
 "nbformat": 4,
 "nbformat_minor": 2
}
