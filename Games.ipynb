{
 "cells": [
  {
   "cell_type": "code",
   "execution_count": 15,
   "metadata": {},
   "outputs": [
    {
     "name": "stdout",
     "output_type": "stream",
     "text": [
      "        Date  Match Type  Team A Score  Team B Score Winning Team  Total Score\n",
      "0 2023-01-12          14            18            13            A           31\n",
      "1 2023-01-19          22             4             7            B           11\n",
      "2 2023-01-26          16             5             8            B           13\n",
      "3 2023-02-02          14             8            13            B           21\n",
      "4 2023-02-09          14             6            11            B           17\n"
     ]
    }
   ],
   "source": [
    "import pandas as pd\n",
    "\n",
    "# Load the first sheet of the Excel file into a DataFrame\n",
    "data_first_sheet = pd.read_excel(\"FantaSPL_V2.2.xlsx\", sheet_name=0)\n",
    "\n",
    "# Rename the columns\n",
    "column_mapping = {\n",
    "    \"Data\": \"Date\",\n",
    "    \"Tipo Partita\": \"Match Type\",\n",
    "    \"Bianchi\": \"Team A Score\",\n",
    "    \"Scuri\": \"Team B Score\",\n",
    "    \"Squadra vincente\": \"Winning Team\",\n",
    "    \"Numero Goal\": \"Number of Goals\",\n",
    "    \"Goal Check\": \"Goal Check\",\n",
    "    \"Numero Goal Punti\": \"Goal Points\",\n",
    "    \"Autogoal\": \"Own Goals\",\n",
    "    \"Costo per Partita\": \"Cost per Match\",\n",
    "    \"Effettivo\": \"Actual Cost\"\n",
    "}\n",
    "data_first_sheet.rename(columns=column_mapping, inplace=True)\n",
    "\n",
    "# Extracting the relevant columns and create an explicit copy immediately\n",
    "user_input_table = data_first_sheet[[\"Date\", \"Match Type\", \"Team A Score\", \"Team B Score\"]].copy()\n",
    "\n",
    "# Modify the 'Winning Team' column\n",
    "user_input_table[\"Winning Team\"] = user_input_table.apply(\n",
    "    lambda row: \"A\" if row[\"Team A Score\"] > row[\"Team B Score\"] else (\"B\" if row[\"Team A Score\"] < row[\"Team B Score\"] else \"X\"), axis=1)\n",
    "\n",
    "# Add the 'Total Score' column\n",
    "user_input_table[\"Total Score\"] = user_input_table[\"Team A Score\"] + user_input_table[\"Team B Score\"]\n",
    "\n",
    "# Display the first few rows of the updated table\n",
    "print(user_input_table.head())\n"
   ]
  },
  {
   "cell_type": "code",
   "execution_count": null,
   "metadata": {},
   "outputs": [],
   "source": []
  }
 ],
 "metadata": {
  "kernelspec": {
   "display_name": "Python 3",
   "language": "python",
   "name": "python3"
  },
  "language_info": {
   "codemirror_mode": {
    "name": "ipython",
    "version": 3
   },
   "file_extension": ".py",
   "mimetype": "text/x-python",
   "name": "python",
   "nbconvert_exporter": "python",
   "pygments_lexer": "ipython3",
   "version": "3.10.8"
  },
  "orig_nbformat": 4
 },
 "nbformat": 4,
 "nbformat_minor": 2
}
