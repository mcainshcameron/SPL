{
 "cells": [
  {
   "cell_type": "code",
   "execution_count": 3,
   "metadata": {},
   "outputs": [
    {
     "name": "stderr",
     "output_type": "stream",
     "text": [
      "/tmp/ipykernel_61703/2193817785.py:29: DeprecationWarning: The 'text' argument to find()-type methods is deprecated. Use 'string' instead.\n",
      "  for text_element in soup.find_all(text=True):\n"
     ]
    }
   ],
   "source": [
    "from bs4 import BeautifulSoup\n",
    "\n",
    "# 1. Read the HTML and CSS files\n",
    "with open(\"/workspaces/SPL/Middleput/players_summary_updated.html\", \"r\") as html_file:\n",
    "    players_summary_html = html_file.read()\n",
    "\n",
    "with open(\"styles.css\", \"r\") as css_file:\n",
    "    styles_css = css_file.read()\n",
    "\n",
    "# 2. Parse the HTML using BeautifulSoup\n",
    "soup = BeautifulSoup(players_summary_html, 'html.parser')\n",
    "\n",
    "# 3. Link the CSS file in the HTML\n",
    "link_tag = soup.new_tag(\"link\")\n",
    "link_tag.attrs[\"rel\"] = \"stylesheet\"\n",
    "link_tag.attrs[\"href\"] = \"styles_updated.css\"\n",
    "soup.head.append(link_tag)\n",
    "\n",
    "# 4. Wrap the table in a container div for better control and presentation\n",
    "container_div = soup.new_tag(\"div\", id=\"table-container\")\n",
    "soup.table.wrap(container_div)\n",
    "\n",
    "# 5. Correct the malformed anchor tags\n",
    "for a_tag in soup.find_all('a'):\n",
    "    if \"<a href=\" in a_tag[\"href\"]:\n",
    "        a_tag.decompose()\n",
    "\n",
    "# 6. Remove residual `.html\"&gt;` entries\n",
    "for text_element in soup.find_all(text=True):\n",
    "    if '.html\"&gt;' in text_element:\n",
    "        text_element.replace_with(text_element.replace('.html\"&gt;', ''))\n",
    "\n",
    "# 7. Add styles for the table\n",
    "table_styles = \"\"\"\n",
    "#table-container {\n",
    "    background-color: white;\n",
    "    padding: 20px;\n",
    "    border-radius: 8px;\n",
    "    box-shadow: 0px 0px 10px rgba(0, 0, 0, 0.1);\n",
    "    overflow-x: auto;\n",
    "}\n",
    "\n",
    ".dataframe {\n",
    "    border-collapse: collapse;\n",
    "    width: 100%;\n",
    "    table-layout: fixed;\n",
    "}\n",
    "\n",
    ".dataframe th, .dataframe td {\n",
    "    border: 1px solid #ddd;\n",
    "    padding: 8px 12px;\n",
    "    text-align: left;\n",
    "}\n",
    "\n",
    ".dataframe tr:nth-child(even) {\n",
    "    background-color: #f2f2f2;\n",
    "}\n",
    "\n",
    ".dataframe th {\n",
    "    background-color: #333;\n",
    "    color: white;\n",
    "}\n",
    "\"\"\"\n",
    "\n",
    "# 8. Append the new styles to the existing CSS content\n",
    "updated_styles_css = styles_css + table_styles\n",
    "\n",
    "# 9. Save the updated HTML and CSS to files\n",
    "with open(\"/workspaces/SPL/Output/players_stats_new.html\", \"w\") as html_file:\n",
    "    html_file.write(str(soup.prettify()))\n",
    "\n",
    "with open(\"styles_updated.css\", \"w\") as css_file:\n",
    "    css_file.write(updated_styles_css)\n"
   ]
  },
  {
   "cell_type": "code",
   "execution_count": null,
   "metadata": {},
   "outputs": [],
   "source": []
  }
 ],
 "metadata": {
  "kernelspec": {
   "display_name": "Python 3",
   "language": "python",
   "name": "python3"
  },
  "language_info": {
   "codemirror_mode": {
    "name": "ipython",
    "version": 3
   },
   "file_extension": ".py",
   "mimetype": "text/x-python",
   "name": "python",
   "nbconvert_exporter": "python",
   "pygments_lexer": "ipython3",
   "version": "3.10.8"
  },
  "orig_nbformat": 4
 },
 "nbformat": 4,
 "nbformat_minor": 2
}
