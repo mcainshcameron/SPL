{
 "cells": [
  {
   "cell_type": "code",
   "execution_count": 4,
   "metadata": {},
   "outputs": [
    {
     "name": "stderr",
     "output_type": "stream",
     "text": [
      "/tmp/ipykernel_61703/3652720398.py:26: DeprecationWarning: The 'text' argument to find()-type methods is deprecated. Use 'string' instead.\n",
      "  for text_element in soup.find_all(text=True):\n"
     ]
    }
   ],
   "source": [
    "from bs4 import BeautifulSoup\n",
    "\n",
    "# 1. Read the HTML and CSS files\n",
    "with open(\"/workspaces/SPL/Middleput/players_summary_updated.html\", \"r\") as html_file:\n",
    "    players_summary_html = html_file.read()\n",
    "\n",
    "# 2. Parse the HTML using BeautifulSoup\n",
    "soup = BeautifulSoup(players_summary_html, 'html.parser')\n",
    "\n",
    "# 3. Link the CSS file in the HTML\n",
    "link_tag = soup.new_tag(\"link\")\n",
    "link_tag.attrs[\"rel\"] = \"stylesheet\"\n",
    "link_tag.attrs[\"href\"] = \"styles.css\"\n",
    "soup.head.append(link_tag)\n",
    "\n",
    "# 4. Wrap the table in a container div for better control and presentation\n",
    "container_div = soup.new_tag(\"div\", id=\"table-container\")\n",
    "soup.table.wrap(container_div)\n",
    "\n",
    "# 5. Correct the malformed anchor tags\n",
    "for a_tag in soup.find_all('a'):\n",
    "    if \"<a href=\" in a_tag[\"href\"]:\n",
    "        a_tag.decompose()\n",
    "\n",
    "# 6. Remove residual `.html\"&gt;` entries\n",
    "for text_element in soup.find_all(text=True):\n",
    "    if '.html\"&gt;' in text_element:\n",
    "        text_element.replace_with(text_element.replace('.html\"&gt;', ''))\n",
    "\n",
    "\n",
    "# 9. Save the updated HTML and CSS to files\n",
    "with open(\"/workspaces/SPL/Output/players_stats_new.html\", \"w\") as html_file:\n",
    "    html_file.write(str(soup.prettify()))\n"
   ]
  },
  {
   "cell_type": "code",
   "execution_count": null,
   "metadata": {},
   "outputs": [],
   "source": []
  }
 ],
 "metadata": {
  "kernelspec": {
   "display_name": "Python 3",
   "language": "python",
   "name": "python3"
  },
  "language_info": {
   "codemirror_mode": {
    "name": "ipython",
    "version": 3
   },
   "file_extension": ".py",
   "mimetype": "text/x-python",
   "name": "python",
   "nbconvert_exporter": "python",
   "pygments_lexer": "ipython3",
   "version": "3.10.8"
  },
  "orig_nbformat": 4
 },
 "nbformat": 4,
 "nbformat_minor": 2
}
